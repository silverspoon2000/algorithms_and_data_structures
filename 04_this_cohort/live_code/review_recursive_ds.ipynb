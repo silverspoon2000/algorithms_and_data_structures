{
 "cells": [
  {
   "cell_type": "code",
   "execution_count": 17,
   "id": "c6dac96b-3090-4b68-bae9-27e503ce670b",
   "metadata": {},
   "outputs": [],
   "source": [
    "# Tree\n",
    "# Tree is either:\n",
    "# Empty (None)\n",
    "# Root value and any number of Trees called subtrees\n",
    "\n",
    "# class NodeMulti: # Tree with any number of children\n",
    "#   \"\"\"Tree class\n",
    "#   \"\"\"\n",
    "#   def __init__(self, key):\n",
    "#     self.children = []\n",
    "#     self.val = key\n",
    "\n",
    "class Node: # Binary Tree (2 children)\n",
    "  \"\"\"Tree class\n",
    "  \"\"\"\n",
    "  def __init__(self, key):\n",
    "    self.left = None\n",
    "    self.right = None\n",
    "    self.val = key\n",
    "\n",
    "def print_inorder(root): # This is used if we want to traverse a binary search tree in sorted order\n",
    "  if root:\n",
    "    print_inorder(root.left)\n",
    "    print(root.val, end = \" \")\n",
    "    print_inorder(root.right)\n",
    "\n",
    "def print_preorder(root): # This is used when we want to do something to the parent before moving on to the children (ex. when making a copy of a tree)\n",
    "  if root:\n",
    "    print(root.val, end = \" \")\n",
    "    print_preorder(root.left)\n",
    "    print_preorder(root.right)\n",
    "\n",
    "def print_postorder(root): # This is used when we want to do something to the children before moving on to the parent (ex. deleting a tree)\n",
    "  if root:\n",
    "    print_postorder(root.left)\n",
    "    print_postorder(root.right)\n",
    "    print(root.val, end = \" \")\n",
    "\n",
    "root = Node(1)\n",
    "root.left = Node(2)\n",
    "root.right = Node(3)\n",
    "root.left.left = Node(4)\n",
    "root.left.right = Node(5)\n",
    "root.right.left = Node(6)"
   ]
  },
  {
   "cell_type": "code",
   "execution_count": 18,
   "id": "abd73cf7-d605-40d8-8ace-c919aa6f00cb",
   "metadata": {},
   "outputs": [
    {
     "name": "stdout",
     "output_type": "stream",
     "text": [
      "4 2 5 1 6 3 "
     ]
    }
   ],
   "source": [
    "print_inorder(root)"
   ]
  },
  {
   "cell_type": "code",
   "execution_count": 19,
   "id": "f4afbd88-29f9-48ea-8b1d-17261ec489e3",
   "metadata": {},
   "outputs": [
    {
     "name": "stdout",
     "output_type": "stream",
     "text": [
      "1 2 4 5 3 6 "
     ]
    }
   ],
   "source": [
    "print_preorder(root)"
   ]
  },
  {
   "cell_type": "code",
   "execution_count": 20,
   "id": "d15104e4-6333-4ddc-988e-fe5c02012452",
   "metadata": {},
   "outputs": [
    {
     "name": "stdout",
     "output_type": "stream",
     "text": [
      "4 5 2 6 3 1 "
     ]
    }
   ],
   "source": [
    "print_postorder(root)"
   ]
  },
  {
   "cell_type": "code",
   "execution_count": 21,
   "id": "6ab22831-0ff8-4f43-bfdb-462fe5f08d07",
   "metadata": {},
   "outputs": [],
   "source": [
    "def print_tree_structure(root):\n",
    "    if not root:\n",
    "        return\n",
    "\n",
    "    queue = [root]\n",
    "\n",
    "    while queue:\n",
    "        level_size = len(queue)\n",
    "\n",
    "        for i in range(level_size):\n",
    "            current_node = queue.pop(0)\n",
    "            print(current_node.val, end=\" \")\n",
    "\n",
    "            if current_node.left:\n",
    "                queue.append(current_node.left)\n",
    "\n",
    "            if current_node.right:\n",
    "                queue.append(current_node.right)\n",
    "\n",
    "        print()  # Move to the next line after each level"
   ]
  },
  {
   "cell_type": "code",
   "execution_count": 22,
   "id": "0fe3eb17-6d94-4a34-b91e-26688a531ec2",
   "metadata": {},
   "outputs": [
    {
     "name": "stdout",
     "output_type": "stream",
     "text": [
      "1 \n",
      "2 3 \n",
      "4 5 6 \n"
     ]
    }
   ],
   "source": [
    "print_tree_structure(root)"
   ]
  },
  {
   "cell_type": "code",
   "execution_count": 24,
   "id": "56d0940c-961e-494f-9c48-b55f1cb269b2",
   "metadata": {},
   "outputs": [],
   "source": [
    "def insert_bst(root, value):\n",
    "    if not root:\n",
    "        return Node(value)\n",
    "    else:\n",
    "        if root.val > value:\n",
    "            root.left = insert_bst(root.left, value)\n",
    "            return root\n",
    "        else:\n",
    "            root.right = insert_bst(root.right, value)\n",
    "            return root"
   ]
  },
  {
   "cell_type": "code",
   "execution_count": 25,
   "id": "26b71bd8-de82-4edb-a83c-12636062cd11",
   "metadata": {
    "scrolled": true
   },
   "outputs": [
    {
     "data": {
      "text/plain": [
       "<__main__.Node at 0x105db94d0>"
      ]
     },
     "execution_count": 25,
     "metadata": {},
     "output_type": "execute_result"
    }
   ],
   "source": [
    "root = Node(50)\n",
    "insert_bst(root, 25)\n",
    "insert_bst(root, 75)\n",
    "insert_bst(root, 82)\n",
    "insert_bst(root, 67)\n",
    "insert_bst(root, 12)\n",
    "insert_bst(root, 37)"
   ]
  },
  {
   "cell_type": "code",
   "execution_count": 26,
   "id": "c9850439-63d4-4c4a-a8c6-b29428f2b101",
   "metadata": {},
   "outputs": [
    {
     "name": "stdout",
     "output_type": "stream",
     "text": [
      "50 \n",
      "25 75 \n",
      "12 37 67 82 \n"
     ]
    }
   ],
   "source": [
    "print_tree_structure(root)"
   ]
  },
  {
   "cell_type": "code",
   "execution_count": null,
   "id": "cf010347-6087-4daa-90e2-2b083c58b6fb",
   "metadata": {},
   "outputs": [],
   "source": []
  },
  {
   "cell_type": "code",
   "execution_count": null,
   "id": "67dd005e-dccf-4060-adab-c3d1ecd3051a",
   "metadata": {},
   "outputs": [],
   "source": []
  },
  {
   "cell_type": "code",
   "execution_count": null,
   "id": "86232d91-1ff1-4add-a3f5-908c09f50fd2",
   "metadata": {},
   "outputs": [],
   "source": []
  },
  {
   "cell_type": "code",
   "execution_count": 32,
   "id": "a8a7eb41-e2f5-4287-b2bf-dc4acded90b1",
   "metadata": {},
   "outputs": [
    {
     "name": "stdout",
     "output_type": "stream",
     "text": [
      "12 25 37 50 67 75 82 "
     ]
    }
   ],
   "source": [
    "print_inorder(root)"
   ]
  },
  {
   "cell_type": "code",
   "execution_count": null,
   "id": "041230bc-ffb0-4197-b74d-69e80c5354d4",
   "metadata": {},
   "outputs": [],
   "source": []
  },
  {
   "cell_type": "code",
   "execution_count": null,
   "id": "b7436e7f-aa26-46a0-81ae-660254fb13c9",
   "metadata": {},
   "outputs": [],
   "source": []
  },
  {
   "cell_type": "code",
   "execution_count": null,
   "id": "f0f32d0c-95d2-4ab0-b3fd-51ed6ea9a876",
   "metadata": {},
   "outputs": [],
   "source": []
  },
  {
   "cell_type": "code",
   "execution_count": null,
   "id": "7315aa05-1286-450e-9523-a05f1fd214c1",
   "metadata": {},
   "outputs": [],
   "source": [
    "# Given the root of a binary tree, check whether it is a mirror of itself (i.e., symmetric around its center).\n",
    "# https://leetcode.com/problems/symmetric-tree/description/"
   ]
  },
  {
   "cell_type": "code",
   "execution_count": 33,
   "id": "2f73a0a6-bd37-417c-a63b-563f8688b2a9",
   "metadata": {},
   "outputs": [],
   "source": [
    "def isSymmetric(root):\n",
    "    \"\"\"\n",
    "    :type root: Node\n",
    "    :rtype: bool\n",
    "    \"\"\"\n",
    "    return isSymmetricHelper(root.left, root.right)\n",
    "\n",
    "def isSymmetricHelper(left, right):\n",
    "    if left is None and right is None:\n",
    "        return True\n",
    "    elif left is None or right is None:\n",
    "        return False\n",
    "    else:\n",
    "        if left.val == right.val:\n",
    "            return isSymmetricHelper(left.left, right.right) and isSymmetricHelper(left.right, right.left)\n",
    "        else:\n",
    "            return False\n",
    "    "
   ]
  },
  {
   "cell_type": "code",
   "execution_count": 34,
   "id": "366f6181-40c9-4df1-bc80-88aa776abf45",
   "metadata": {},
   "outputs": [
    {
     "data": {
      "text/plain": [
       "False"
      ]
     },
     "execution_count": 34,
     "metadata": {},
     "output_type": "execute_result"
    }
   ],
   "source": [
    "isSymmetric(root)"
   ]
  },
  {
   "cell_type": "code",
   "execution_count": 35,
   "id": "497cb6f1-d5ce-4eac-ad34-f65f5487d636",
   "metadata": {},
   "outputs": [],
   "source": [
    "root2 = Node(1)\n",
    "root2.left = Node(2)\n",
    "root2.right = Node(2)\n",
    "root2.right.left = Node(4)\n",
    "root2.right.right = Node(3)\n",
    "root2.left.right = Node(4)\n",
    "root2.left.left = Node(3)"
   ]
  },
  {
   "cell_type": "code",
   "execution_count": 36,
   "id": "54fae871-b9b9-454d-a778-b59b0104f846",
   "metadata": {},
   "outputs": [
    {
     "data": {
      "text/plain": [
       "True"
      ]
     },
     "execution_count": 36,
     "metadata": {},
     "output_type": "execute_result"
    }
   ],
   "source": [
    "isSymmetric(root2)"
   ]
  },
  {
   "cell_type": "code",
   "execution_count": null,
   "id": "0d08b5b0-24d1-41e2-ac01-ca572af4af7c",
   "metadata": {},
   "outputs": [],
   "source": []
  }
 ],
 "metadata": {
  "kernelspec": {
   "display_name": "Python 3 (ipykernel)",
   "language": "python",
   "name": "python3"
  },
  "language_info": {
   "codemirror_mode": {
    "name": "ipython",
    "version": 3
   },
   "file_extension": ".py",
   "mimetype": "text/x-python",
   "name": "python",
   "nbconvert_exporter": "python",
   "pygments_lexer": "ipython3",
   "version": "3.11.5"
  }
 },
 "nbformat": 4,
 "nbformat_minor": 5
}
